{
  "nbformat": 4,
  "nbformat_minor": 0,
  "metadata": {
    "colab": {
      "name": "Pigeonhole-Principle.ipynb",
      "version": "0.3.2",
      "provenance": [],
      "include_colab_link": true
    },
    "kernelspec": {
      "name": "python3",
      "display_name": "Python 3"
    }
  },
  "cells": [
    {
      "cell_type": "markdown",
      "metadata": {
        "id": "view-in-github",
        "colab_type": "text"
      },
      "source": [
        "<a href=\"https://colab.research.google.com/github/Aamir-Ullah-Khan/Pigeonhole-Homework1/blob/master/Pigeonhole_Principle.ipynb\" target=\"_parent\"><img src=\"https://colab.research.google.com/assets/colab-badge.svg\" alt=\"Open In Colab\"/></a>"
      ]
    },
    {
      "metadata": {
        "id": "X5nPDREg53BO",
        "colab_type": "code",
        "colab": {}
      },
      "cell_type": "code",
      "source": [
        ""
      ],
      "execution_count": 0,
      "outputs": []
    },
    {
      "metadata": {
        "id": "MQ0TN7yt54z7",
        "colab_type": "text"
      },
      "cell_type": "markdown",
      "source": [
        "\n",
        "   >>>>>>>>>>**Pigeonhole Principle**\n",
        "\n",
        "\n",
        "\n",
        "\n",
        "If there are more pigeons than pigeonholes, then there must be at least one pigeonhole with at least two pigeons in it. \n",
        "![alt text](https://i.ytimg.com/vi/IeTLZPNIPJQ/maxresdefault.jpg)\n",
        "\n",
        "**Theorem 1:**  \n",
        " If “A” is the average number of pigeons per hole, where A is not an integer then\n",
        "\n",
        "*  At least one pigeon hole contains ceil[A] (smallest integer greater than or equal to A) pigeons\n",
        "*  Remaining pigeon holes contains at most floor[A] (largest integer less than or equal to A) pigeons\n",
        "**Theroeme 2:** \n",
        "We can say as, if n + 1 objects are put into n boxes, then at least one box contains two or more objects. The abstract formulation of the principle: Let X and Y be finite sets and let f: X –> Y be a function.\n",
        "\n",
        "\n",
        "*  If X has more elements than Y, then f is not one-to-one.\n",
        "*  If X and Y have the same number of elements and f is onto, then f is one-to-one.\n",
        "*  If X and Y have the same number of elements and f is one-to-one, then f is onto. \n",
        "Pigeonhole principle is one of the simplest but most useful ideas in mathematics. \n",
        "\n",
        "\n",
        "\n",
        "\n",
        "\n",
        "\n"
      ]
    },
    {
      "metadata": {
        "id": "fXgpHt309P9h",
        "colab_type": "text"
      },
      "cell_type": "markdown",
      "source": [
        "**Example:   Birthday Paradox**\n",
        "\n",
        "Suppose there are \"n\" number of people in a room. Two or more people will have same birthday.\n",
        "**Solution**\n",
        "\n",
        "If number of people in room is greater than number of days in a year, then at-least two people will have same birthday. e.g. \n",
        "Number of people in room **= n= 500**.\n",
        "Number of days in an year **= d = 365 (normal year) or 366 (leap year)**. \n",
        "Number of people having same birthday **= bd = n/d = 1.37** .\n",
        "\n",
        "Hence according to **Pigeonhole principle** ceiling for current case will be **2 i.e. two people will have same birthday.**\n"
      ]
    },
    {
      "metadata": {
        "id": "7-T5BF5k8rE0",
        "colab_type": "text"
      },
      "cell_type": "markdown",
      "source": [
        ""
      ]
    },
    {
      "metadata": {
        "id": "5EY7H6AkADbl",
        "colab_type": "text"
      },
      "cell_type": "markdown",
      "source": [
        "**Code**"
      ]
    },
    {
      "metadata": {
        "id": "c14JFOPD-9Wc",
        "colab_type": "code",
        "colab": {}
      },
      "cell_type": "code",
      "source": [
        "# Starting Code\n",
        "import math\n",
        "import numpy\n",
        "print(\"This program shows number of people having same birthday in a room by taking input from user\")\n",
        "option = str('y')\n",
        "while option == 'y':\n",
        "    print(\"Enter (+ve)number of people in the room\")\n",
        "    people = int(input())\n",
        "    if people < 0:    #No negative input for number of people\n",
        "        print(\"Invalid Entry: Please select number  greater than 0\")\n",
        "        exit()\n",
        "    print(\"Enter (+ve)number of days in a year i.e: leap or not\")\n",
        "    days = int(input())\n",
        "    if days < 0:  #No negative input for number of people\n",
        "        print(\"Invalid Entry: Please select number  greater than 0\")\n",
        "        exit()\n",
        "    elif people <= days:  # Represents the case when number of pigeons are less than pigeonholes\n",
        "        print(\"Pigeon rule does not apply\")\n",
        "        print(\"People may or may not have same birthday\")\n",
        "    elif people > days:   # Represents the case when number of pigeons are greater than pigeonholes\n",
        "        print(\"Pigeon rule applies\")\n",
        "        result1 = people % days  # Checks if People/ Days is a complete division with no reminder or not\n",
        "        result = float(people // days)\n",
        "        if result1 == 0:  # If its a complete division, then it becomes ceiling e.g. 730/365=2\n",
        "            print(\" Minimum number of people having same birthday:\", result)\n",
        "        else:  # If its not a complete division, then it becomes ceiling e.g. 731/365=2.002 --> 3\n",
        "            print(\"Minimum number of people having same birthday:\", result + 1)\n",
        "    else:\n",
        "        print(\"Invalid Input: Please select again\")\n",
        "    print(\"If you want to continue enter y or else any other character\")  # To continue while loop\n",
        "    option = input()\n",
        "input(\"Press any key to close the code\")"
      ],
      "execution_count": 0,
      "outputs": []
    }
  ]
}